{
 "cells": [
  {
   "cell_type": "code",
   "execution_count": 7,
   "metadata": {},
   "outputs": [],
   "source": [
    "# This file works with the consumption values from the USrunningenergy file\n",
    "\n",
    "import pandas as pd"
   ]
  },
  {
   "cell_type": "code",
   "execution_count": 8,
   "metadata": {},
   "outputs": [],
   "source": [
    "# zones for electrical utilities in US\n",
    "zones = [\"US-SW-PNM\", \"US-SW-EPE\", \"US-SW-WALC\", \"US-NW-PACE\", \"US-NW-PSCO\", \"US-CENT-SWPP\", \"US-TEX-ERCO\", \"US-MIDW-AECI\",\"US-SW-AZPS\",\"US-SW-AZPS\",\n",
    "         \"US-NW-WACM\", \"US-SW-SRP\", \"US-SW-TEPC\", \"US-CENT-SPA\", \"US-CAL-IID\", \"US-CAL-CISO\", \"US-CAL-BANC\",\"US-CAL-BANC\", \"US-CAL-TIDC\", \n",
    "          \"US-CAR-CPLE\", \"US-CAR-CPLW\", \"US-CAR-DUK\", \"US-CAR-SC\", \"US-CAR-SCEG\", \"US-CAR-YAD\", \"US-FLA-FMPP\", \"US-FLA-FPC\" , \"US-FLA-FPL\",\n",
    "          \"US-FLA-GVL\" , \"US-FLA-HST\", \"US-FLA-JEA\", \"US-FLA-SEC\", \"US-FLA-TAL\", \"US-FLA-TEC\", \"US-MIDW-AECI\" , \"US-MIDW-LGEE\", \"US-MIDW-MISO\",\n",
    "          \"US-NE-ISNE\", \"US-NW-BPAT\", \"US-NW-CHPD\", \"US-NW-DOPD\", \"US-NW-GCPD\", \"US-NW-GRID\",  \"US-NW-IPCO\" , \"US-NW-NWMT\", \"US-NW-NEVP\", \n",
    "           \"US-NW-PACW\",  \"US-NW-PGE\", \"US-NW-PSEI\", \"US-NW-SCL\", \"US-NW-TPWR\", \"US-NW-WAUW\", \"US-NY-NYIS\", \"US-SE-SEPA\", \"US-SE-SOCO\" , \n",
    "           \"US-TEN-TVA\"]"
   ]
  },
  {
   "cell_type": "code",
   "execution_count": 9,
   "metadata": {},
   "outputs": [
    {
     "name": "stderr",
     "output_type": "stream",
     "text": [
      "C:\\Users\\mrkol\\AppData\\Local\\Temp\\ipykernel_28940\\707124026.py:1: DtypeWarning: Columns (16,20) have mixed types. Specify dtype option on import or set low_memory=False.\n",
      "  df_all = pd.read_csv('data/runningUSenergy_data.csv')\n"
     ]
    }
   ],
   "source": [
    "df_all = pd.read_csv('data/runningUSenergy_data.csv')"
   ]
  },
  {
   "cell_type": "code",
   "execution_count": 11,
   "metadata": {},
   "outputs": [],
   "source": [
    "# loop through the zones to create a dataframe for one zone at a time\n",
    "for i in range(len(zones)):\n",
    "    # filter for all rows for a particular region based upon the index from the zones list\n",
    "    df = df_all.loc[df_all['region']== zones[i]]\n",
    "    # drop some columns that are infrequently used\n",
    "    columns_to_drop = ['geothermal(GW)', 'biomass(GW)', 'oil', 'unknown', 'hydro-discharge', 'battery_discharge'\n",
    "                    ]\n",
    "    df_cleaned = df.drop(columns=columns_to_drop, axis=1)\n",
    "    # reset the index to serial value starting from zero, create a new id column that is serial starting from one\n",
    "    df_cleaned.reset_index(drop=True, inplace=True)\n",
    "    df_cleaned['id'] = df_cleaned.index + 1\n",
    "    # create a new dataframe that moves the id column into the farthest left column\n",
    "    df_new = df_cleaned[['id'] + [col for col in df_cleaned if col != 'id']]\n",
    "    # set the id column as the index so that the serial id column is the first column\n",
    "    df_newer = df_new.set_index('id')\n",
    "    # write the data for the current region to a csv file named with the region name\n",
    "    df_newer.to_csv(f'data/{zones[i]}.csv')"
   ]
  }
 ],
 "metadata": {
  "kernelspec": {
   "display_name": "dev",
   "language": "python",
   "name": "python3"
  },
  "language_info": {
   "codemirror_mode": {
    "name": "ipython",
    "version": 3
   },
   "file_extension": ".py",
   "mimetype": "text/x-python",
   "name": "python",
   "nbconvert_exporter": "python",
   "pygments_lexer": "ipython3",
   "version": "3.10.13"
  }
 },
 "nbformat": 4,
 "nbformat_minor": 2
}
