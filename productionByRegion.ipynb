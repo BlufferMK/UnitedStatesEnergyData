{
 "cells": [
  {
   "cell_type": "code",
   "execution_count": 1,
   "metadata": {},
   "outputs": [],
   "source": [
    "import pandas as pd\n"
   ]
  },
  {
   "cell_type": "code",
   "execution_count": 11,
   "metadata": {},
   "outputs": [
    {
     "name": "stdout",
     "output_type": "stream",
     "text": [
      "['SW_PNM', 'SW_EPE', 'SW_WALC', 'NW_PACE', 'NW_PSCO', 'CENT_SWPP', 'TEX_ERCO', 'MIDW_AECI', 'SW_AZPS', 'SW_AZPS', 'NW_WACM', 'SW_SRP', 'SW_TEPC', 'CENT_SPA', 'CAL_IID', 'CAL_CISO', 'CAL_BANC', 'CAL_BANC', 'CAL_TIDC', 'CAR_CPLE', 'CAR_CPLW', 'CAR_DUK', 'CAR_SC', 'CAR_SCEG', 'CAR_YAD', 'FLA_FMPP', 'FLA_FPC', 'FLA_FPL', 'FLA_GVL', 'FLA_HST', 'FLA_JEA', 'FLA_SEC', 'FLA_TAL', 'FLA_TEC', 'MIDW_AECI', 'MIDW_LGEE', 'MIDW_MISO', 'NE_ISNE', 'NW_BPAT', 'NW_CHPD', 'NW_DOPD', 'NW_GCPD', 'NW_GRID', 'NW_IPCO', 'NW_NWMT', 'NW_NEVP', 'NW_PACW', 'NW_PGE', 'NW_PSEI', 'NW_SCL', 'NW_TPWR', 'NW_WAUW', 'NY_NYIS', 'SE_SEPA', 'SE_SOCO', 'TEN_TVA']\n"
     ]
    }
   ],
   "source": [
    "# zones for electrical utilities in US\n",
    "zones = [\"US-SW-PNM\", \"US-SW-EPE\", \"US-SW-WALC\", \"US-NW-PACE\", \"US-NW-PSCO\", \"US-CENT-SWPP\", \"US-TEX-ERCO\", \"US-MIDW-AECI\",\"US-SW-AZPS\",\"US-SW-AZPS\",\n",
    "         \"US-NW-WACM\", \"US-SW-SRP\", \"US-SW-TEPC\", \"US-CENT-SPA\", \"US-CAL-IID\", \"US-CAL-CISO\", \"US-CAL-BANC\",\"US-CAL-BANC\", \"US-CAL-TIDC\", \n",
    "          \"US-CAR-CPLE\", \"US-CAR-CPLW\", \"US-CAR-DUK\", \"US-CAR-SC\", \"US-CAR-SCEG\", \"US-CAR-YAD\", \"US-FLA-FMPP\", \"US-FLA-FPC\" , \"US-FLA-FPL\",\n",
    "          \"US-FLA-GVL\" , \"US-FLA-HST\", \"US-FLA-JEA\", \"US-FLA-SEC\", \"US-FLA-TAL\", \"US-FLA-TEC\", \"US-MIDW-AECI\" , \"US-MIDW-LGEE\", \"US-MIDW-MISO\",\n",
    "          \"US-NE-ISNE\", \"US-NW-BPAT\", \"US-NW-CHPD\", \"US-NW-DOPD\", \"US-NW-GCPD\", \"US-NW-GRID\",  \"US-NW-IPCO\" , \"US-NW-NWMT\", \"US-NW-NEVP\", \n",
    "           \"US-NW-PACW\",  \"US-NW-PGE\", \"US-NW-PSEI\", \"US-NW-SCL\", \"US-NW-TPWR\", \"US-NW-WAUW\", \"US-NY-NYIS\", \"US-SE-SEPA\", \"US-SE-SOCO\" , \n",
    "           \"US-TEN-TVA\"]\n",
    "\n",
    "zones = [zone[3:] for zone in zones]\n",
    "zones = [zone.replace('-','_') for zone in zones]\n",
    "print(zones)"
   ]
  },
  {
   "cell_type": "code",
   "execution_count": 12,
   "metadata": {},
   "outputs": [],
   "source": [
    "df_all = pd.read_csv('data/allRegions/simplifiedrunningfile.csv')"
   ]
  },
  {
   "cell_type": "code",
   "execution_count": 13,
   "metadata": {},
   "outputs": [],
   "source": [
    "# loop through the zones to create a dataframe for one zone at a time\n",
    "for i in range(len(zones)):\n",
    "    # filter for all rows for a particular region based upon the index from the zones list\n",
    "    df = df_all.loc[df_all['region']== zones[i]]\n",
    "    # drop some columns that are infrequently used\n",
    "    columns_to_drop = ['geothermal (GW)', 'biomass (GW)', 'oil (GW)', 'unknown (GW)', 'hydro_discharge (GW)', 'battery_discharge (GW)'\n",
    "                    ]\n",
    "    df_cleaned = df.drop(columns=columns_to_drop, axis=1)\n",
    "    # reset the index to serial value starting from zero, create a new id column that is serial starting from one\n",
    "    df_cleaned.reset_index(drop=True, inplace=True)\n",
    "    df_cleaned['id'] = df_cleaned.index + 1\n",
    "    # create a new dataframe that moves the id column into the farthest left column\n",
    "    df_new = df_cleaned[['id'] + [col for col in df_cleaned if col != 'id']]\n",
    "    # set the id column as the index so that the serial id column is the first column\n",
    "    df_newer = df_new.set_index('id')\n",
    "    # write the data for the current region to a csv file named with the region name\n",
    "    df_newer.to_csv(f'data/productionRegionalFiles/{zones[i]}.csv')"
   ]
  }
 ],
 "metadata": {
  "kernelspec": {
   "display_name": "dev",
   "language": "python",
   "name": "python3"
  },
  "language_info": {
   "codemirror_mode": {
    "name": "ipython",
    "version": 3
   },
   "file_extension": ".py",
   "mimetype": "text/x-python",
   "name": "python",
   "nbconvert_exporter": "python",
   "pygments_lexer": "ipython3",
   "version": "3.10.13"
  }
 },
 "nbformat": 4,
 "nbformat_minor": 2
}
